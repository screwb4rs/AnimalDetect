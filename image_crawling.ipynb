{
 "cells": [
  {
   "cell_type": "code",
   "execution_count": null,
   "metadata": {},
   "outputs": [],
   "source": [
    "from selenium import webdriver\n",
    "from selenium.webdriver.common.keys import Keys\n",
    "from selenium.webdriver.common.by import By\n",
    "from selenium.webdriver.support.ui import WebDriverWait\n",
    "from selenium.webdriver.support import expected_conditions as EC\n",
    "from bs4 import BeautifulSoup\n",
    "import requests\n",
    "import os\n",
    "import time\n",
    "\n",
    "search_term = \"hamster\"\n",
    "\n",
    "url = f\"https://www.google.co.kr/search?q={search_term}&tbm=isch\"\n",
    "\n",
    "driver = webdriver.Chrome()\n",
    "driver.get(url)\n",
    "\n",
    "if not os.path.exists(search_term):\n",
    "    os.makedirs(f'D:/animal/{search_term}', exist_ok=True)\n",
    "\n",
    "wait = WebDriverWait(driver, 10)\n",
    "img_links = wait.until(EC.presence_of_all_elements_located((By.CSS_SELECTOR, \".rg_i.Q4LuWd\")))\n",
    "\n",
    "for i, img_link in enumerate(img_links):\n",
    "    try:\n",
    "        if i >= 100:\n",
    "            break\n",
    "        \n",
    "        img_link.click()\n",
    "        time.sleep(2)\n",
    "\n",
    "        img_element = wait.until(EC.presence_of_element_located(\n",
    "            (By.XPATH, '//*[@id=\"Sva75c\"]/div[2]/div[2]/div[2]/div[2]/c-wiz/div/div/div/div[3]/div[1]/a/img[1]')))\n",
    "        img_url = img_element.get_attribute('src')\n",
    "                                                                     \n",
    "        img_data = requests.get(img_url).content\n",
    "        with open(f'D:/animal/{search_term}/{search_term}_{i}.jpg', 'wb') as handler:\n",
    "            handler.write(img_data)\n",
    "    except Exception as e:\n",
    "        print(f\"Error in saving image {i}: {e}\")\n"
   ]
  }
 ],
 "metadata": {
  "language_info": {
   "name": "python"
  }
 },
 "nbformat": 4,
 "nbformat_minor": 2
}
